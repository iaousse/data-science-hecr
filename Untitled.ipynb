{
 "cells": [
  {
   "cell_type": "code",
   "execution_count": 1,
   "id": "b79e4131-c4a7-4b46-b1c0-b616444c252c",
   "metadata": {},
   "outputs": [
    {
     "name": "stdout",
     "output_type": "stream",
     "text": [
      "hello\n"
     ]
    }
   ],
   "source": [
    "print(\"hello\")"
   ]
  },
  {
   "cell_type": "markdown",
   "id": "59606cf7-fc38-4e2c-8385-f368bffdae92",
   "metadata": {},
   "source": [
    "# Premier chapitre\n",
    "Balabba"
   ]
  },
  {
   "cell_type": "code",
   "execution_count": null,
   "id": "53152e4b-0008-40e2-b83c-609c0aaebd33",
   "metadata": {},
   "outputs": [],
   "source": []
  }
 ],
 "metadata": {
  "kernelspec": {
   "display_name": "Python 3 (ipykernel)",
   "language": "python",
   "name": "python3"
  },
  "language_info": {
   "codemirror_mode": {
    "name": "ipython",
    "version": 3
   },
   "file_extension": ".py",
   "mimetype": "text/x-python",
   "name": "python",
   "nbconvert_exporter": "python",
   "pygments_lexer": "ipython3",
   "version": "3.12.5"
  }
 },
 "nbformat": 4,
 "nbformat_minor": 5
}
